{
 "cells": [
  {
   "cell_type": "code",
   "execution_count": null,
   "metadata": {},
   "outputs": [],
   "source": [
    "import numpy as np\n",
    "from qiskit.quantum_info import Statevector\n",
    "from qiskit.quantum_info.operators import Operator\n",
    "from qiskit.circuit.library import HGate, XGate, CXGate, TGate, PhaseGate\n",
    "\n",
    "# Initial state vector |Psi> as numpy array\n",
    "# State vector Psi = |01>, change state vector as desired\n",
    "\n",
    "#psi = np.array([1/4, 1/2, 1/np.sqrt(2), np.sqrt(3)/4], dtype=complex)  # |01> in the computational basis\n",
    "psi = np.array([0, 1/np.sqrt(2), -1/np.sqrt(2), 0], dtype=complex)\n",
    "\n",
    "# Quantum gates\n",
    "H = Operator(HGate()).data  # 2x2 matrix for Hadamard gate # Hadamard (H)\n",
    "X = Operator(XGate()).data  # 2x2 matrix for Pauli-X gate # Pauli-X (X)\n",
    "\n",
    "I = np.array([[1, 0], [0, 1]])\n",
    "\n",
    "# Tensor product\n",
    "H_tensor_X = np.kron(H, X)\n",
    "\n",
    "# (H ⊗ X) operator to state vector |Psi>\n",
    "resulting_state = np.dot(H_tensor_X, psi)\n",
    "\n",
    "# Results\n",
    "print(\"The resulting state vector after applying (H ⊗ X) to |Psi> is:\")\n",
    "print(resulting_state)\n",
    "print(H_tensor_X)\n",
    "\n",
    "CNOT = Operator(CXGate(num_ctrl_qubits=2))\n",
    "P = Operator(PhaseGate(np.pi)) # Check Theta\n",
    "print(CNOT)\n",
    "\n"
   ]
  }
 ],
 "metadata": {
  "kernelspec": {
   "display_name": "qiskit",
   "language": "python",
   "name": "python3"
  },
  "language_info": {
   "name": "python",
   "version": "3.12.2"
  }
 },
 "nbformat": 4,
 "nbformat_minor": 2
}
