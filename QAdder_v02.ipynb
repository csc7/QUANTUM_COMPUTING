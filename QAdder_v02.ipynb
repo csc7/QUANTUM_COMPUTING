{
 "cells": [
  {
   "cell_type": "code",
   "execution_count": 1,
   "metadata": {},
   "outputs": [],
   "source": [
    "# Qiskit Libraries\n",
    "\n",
    "from qiskit import *\n",
    "from qiskit_aer import AerSimulator\n",
    "from qiskit.visualization import plot_histogram\n",
    "\n",
    "from qiskit import QuantumCircuit\n",
    "#from qiskit.transpiler.passes import Decompose"
   ]
  },
  {
   "cell_type": "code",
   "execution_count": null,
   "metadata": {},
   "outputs": [],
   "source": [
    "# Circuit function for the quantum adder\n",
    "\n",
    "def quantum_adder(a, b):\n",
    "    quantum_bits = QuantumRegister(8)\n",
    "    classical_bits = ClassicalRegister(2)\n",
    "\n",
    "    circuit = QuantumCircuit(quantum_bits, classical_bits)\n",
    "\n",
    "    # Qauntum Adder Circuit\n",
    "    # 4.5.2 Making the Classical Adder a Qauntum Gate,\n",
    "    # from \"Introduction to Classical and Quantum Computing\", Thomas G. Wang (2022), p170\n",
    "\n",
    "    if a==0 and b==1:\n",
    "        circuit.x(2)\n",
    "    elif a==1 and b==0:\n",
    "        circuit.x(0)\n",
    "    elif a==1 and b==1:\n",
    "        circuit.x(2)\n",
    "        circuit.x(0)\n",
    "\n",
    "    circuit.barrier()\n",
    "\n",
    "    circuit.cx(1, 3)\n",
    "    circuit.cx(2, 3)\n",
    "    circuit.cx(3, 4)\n",
    "    circuit.cx(0, 4)\n",
    "    circuit.barrier()\n",
    "    circuit.ccx(1, 2, 5)\n",
    "    circuit.ccx(0, 3, 5)\n",
    "    circuit.barrier()\n",
    "    circuit.x(7)\n",
    "    circuit.x(5)\n",
    "    circuit.x(6)\n",
    "    circuit.ccx(5, 6, 7)\n",
    "    circuit.x(5)\n",
    "    circuit.x(6)\n",
    "\n",
    "\n",
    "    circuit.draw(output='mpl')\n",
    "\n",
    "    # Add measurements\n",
    "    circuit.measure(4, 0)  # Measure sum qubit\n",
    "    circuit.measure(7, 1)  # Measure carry-out qubit\n",
    "\n",
    "    # Simulate the circuit\n",
    "    simulator = AerSimulator()\n",
    "    result = simulator.run(circuit).result()\n",
    "    counts = result.get_counts()\n",
    "\n",
    "    # Output\n",
    "    print(\"Measurement Results:\", counts)\n",
    "    circuit.draw('mpl')\n",
    "    plot_histogram(counts)"
   ]
  },
  {
   "cell_type": "code",
   "execution_count": 8,
   "metadata": {},
   "outputs": [
    {
     "name": "stdout",
     "output_type": "stream",
     "text": [
      "Measurement Results: {'00': 1024}\n"
     ]
    }
   ],
   "source": [
    "# Call quantum adder function\n",
    "quantum_adder(0 , 0)"
   ]
  }
 ],
 "metadata": {
  "kernelspec": {
   "display_name": "qiskit",
   "language": "python",
   "name": "python3"
  },
  "language_info": {
   "codemirror_mode": {
    "name": "ipython",
    "version": 3
   },
   "file_extension": ".py",
   "mimetype": "text/x-python",
   "name": "python",
   "nbconvert_exporter": "python",
   "pygments_lexer": "ipython3",
   "version": "3.12.2"
  }
 },
 "nbformat": 4,
 "nbformat_minor": 2
}
